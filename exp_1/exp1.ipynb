{
 "cells": [
  {
   "cell_type": "code",
   "execution_count": 1,
   "metadata": {},
   "outputs": [
    {
     "name": "stdout",
     "output_type": "stream",
     "text": [
      "Attributes = ['Sky', 'Temp', 'Humidity', 'Wind', 'Water', 'Forecast']\n",
      "Dataset:\n",
      "['Sunny', 'Warm', 'Normal', 'Strong', 'Warm', 'Same', 'Yes']\n",
      "['Sunny', 'Warm', 'High', 'Strong', 'Warm', 'Same', 'Yes']\n",
      "['Rainy', 'Cold', 'High', 'Strong', 'Warm', 'Change', 'No']\n",
      "['Sunny', 'Warm', 'High', 'Strong', 'Cool', 'Change', 'Yes']\n",
      "\n",
      "Initial Hypothesis:\n",
      "['0', '0', '0', '0', '0', '0']\n",
      "\n",
      "The Hypotheses are:\n",
      "1 = ['Sunny', 'Warm', 'Normal', 'Strong', 'Warm', 'Same']\n",
      "2 = ['Sunny', 'Warm', '?', 'Strong', 'Warm', 'Same']\n",
      "4 = ['Sunny', 'Warm', '?', 'Strong', '?', '?']\n",
      "\n",
      "Final Hypothesis:\n",
      "['Sunny', 'Warm', '?', 'Strong', '?', '?']\n"
     ]
    }
   ],
   "source": [
    "import csv\n",
    "\n",
    "def loadCsv(filename):\n",
    "    with open(filename, \"r\") as file:\n",
    "        lines = csv.reader(file)\n",
    "        dataset = list(lines)\n",
    "    return dataset\n",
    "\n",
    "attributes = ['Sky', 'Temp', 'Humidity', 'Wind', 'Water', 'Forecast']\n",
    "print('Attributes =', attributes)\n",
    "\n",
    "num_attributes = len(attributes)\n",
    "filename = \"ws.csv\"\n",
    "dataset = loadCsv(filename)\n",
    "\n",
    "print(\"Dataset:\")\n",
    "for row in dataset:\n",
    "    print(row)\n",
    "\n",
    "hypothesis = ['0'] * num_attributes\n",
    "print(\"\\nInitial Hypothesis:\")\n",
    "print(hypothesis)\n",
    "\n",
    "print(\"\\nThe Hypotheses are:\")\n",
    "\n",
    "for i in range(len(dataset)):  \n",
    "    target = dataset[i][-1]\n",
    "    \n",
    "    if target.lower() == \"yes\":  \n",
    "        for j in range(num_attributes):\n",
    "            if hypothesis[j] == '0':\n",
    "                hypothesis[j] = dataset[i][j]\n",
    "            elif hypothesis[j] != dataset[i][j]:\n",
    "                hypothesis[j] = '?'\n",
    "        \n",
    "        print(f\"{i+1} = {hypothesis}\")\n",
    "\n",
    "print(\"\\nFinal Hypothesis:\")\n",
    "print(hypothesis)"
   ]
  },
  {
   "cell_type": "code",
   "execution_count": null,
   "metadata": {},
   "outputs": [],
   "source": []
  },
  {
   "cell_type": "code",
   "execution_count": null,
   "metadata": {},
   "outputs": [],
   "source": []
  },
  {
   "cell_type": "code",
   "execution_count": null,
   "metadata": {},
   "outputs": [],
   "source": []
  },
  {
   "cell_type": "code",
   "execution_count": null,
   "metadata": {},
   "outputs": [],
   "source": []
  }
 ],
 "metadata": {
  "kernelspec": {
   "display_name": "usr",
   "language": "python",
   "name": "python3"
  },
  "language_info": {
   "codemirror_mode": {
    "name": "ipython",
    "version": 3
   },
   "file_extension": ".py",
   "mimetype": "text/x-python",
   "name": "python",
   "nbconvert_exporter": "python",
   "pygments_lexer": "ipython3",
   "version": "3.12.3"
  }
 },
 "nbformat": 4,
 "nbformat_minor": 4
}
