{
 "cells": [
  {
   "cell_type": "code",
   "execution_count": 5,
   "id": "f8ca8937-c3dd-4761-8ad9-1f716dc1faf8",
   "metadata": {},
   "outputs": [
    {
     "name": "stdout",
     "output_type": "stream",
     "text": [
      "2025-02-19 10:18:50.959401\n"
     ]
    }
   ],
   "source": [
    "import datetime\n",
    "today = datetime.datetime.now()\n",
    "print(today)"
   ]
  },
  {
   "cell_type": "markdown",
   "id": "a1ace0a5-1438-46aa-9064-3936cedeceae",
   "metadata": {},
   "source": [
    "# Candidate Elimination Algorithm"
   ]
  },
  {
   "cell_type": "code",
   "execution_count": 15,
   "id": "bf1ee397",
   "metadata": {},
   "outputs": [
    {
     "name": "stdout",
     "output_type": "stream",
     "text": [
      "Data:\n",
      "    Sunny  Warm Normal  Strong Warm.1    Same  Yes\n",
      "0  Sunny  Warm   High  Strong   Warm    Same  Yes\n",
      "1  Rainy  Cold   High  Strong   Warm  Change   No\n",
      "2  Sunny  Warm   High  Strong   Cool  Change  Yes\n",
      "\n",
      "Concepts:\n",
      " [['Sunny' 'Warm' 'High' 'Strong' 'Warm' 'Same']\n",
      " ['Rainy' 'Cold' 'High' 'Strong' 'Warm' 'Change']\n",
      " ['Sunny' 'Warm' 'High' 'Strong' 'Cool' 'Change']]\n",
      "\n",
      "Target:\n",
      " ['Yes' 'No' 'Yes']\n",
      "\n",
      "Initialization of specific_h:\n",
      " ['Sunny' 'Warm' 'High' 'Strong' 'Warm' 'Same']\n",
      "\n",
      "Initialization of general_h:\n",
      " [['?', '?', '?', '?', '?', '?'], ['?', '?', '?', '?', '?', '?'], ['?', '?', '?', '?', '?', '?'], ['?', '?', '?', '?', '?', '?'], ['?', '?', '?', '?', '?', '?'], ['?', '?', '?', '?', '?', '?']]\n",
      "\n",
      "Step 1 of Candidate Elimination Algorithm\n",
      "Specific Hypothesis: ['Sunny' 'Warm' 'High' 'Strong' 'Warm' 'Same']\n",
      "General Hypothesis: [['?', '?', '?', '?', '?', '?'], ['?', '?', '?', '?', '?', '?'], ['?', '?', '?', '?', '?', '?'], ['?', '?', '?', '?', '?', '?'], ['?', '?', '?', '?', '?', '?'], ['?', '?', '?', '?', '?', '?']]\n",
      "\n",
      "Step 2 of Candidate Elimination Algorithm\n",
      "Specific Hypothesis: ['Sunny' 'Warm' 'High' 'Strong' 'Warm' 'Same']\n",
      "General Hypothesis: [['Sunny', '?', '?', '?', '?', '?'], ['?', 'Warm', '?', '?', '?', '?'], ['?', '?', '?', '?', '?', '?'], ['?', '?', '?', '?', '?', '?'], ['?', '?', '?', '?', '?', '?'], ['?', '?', '?', '?', '?', 'Same']]\n",
      "\n",
      "Step 3 of Candidate Elimination Algorithm\n",
      "Specific Hypothesis: ['Sunny' 'Warm' 'High' 'Strong' '?' '?']\n",
      "General Hypothesis: [['Sunny', '?', '?', '?', '?', '?'], ['?', 'Warm', '?', '?', '?', '?'], ['?', '?', '?', '?', '?', '?'], ['?', '?', '?', '?', '?', '?'], ['?', '?', '?', '?', '?', '?'], ['?', '?', '?', '?', '?', '?']]\n",
      "\n",
      "Final Specific Hypothesis: ['Sunny' 'Warm' 'High' 'Strong' '?' '?']\n",
      "\n",
      "Final General Hypotheses: [['Sunny', '?', '?', '?', '?', '?'], ['?', 'Warm', '?', '?', '?', '?']]\n"
     ]
    }
   ],
   "source": [
    "import numpy as np\n",
    "import pandas as pd\n",
    "\n",
    "# Loading data from CSV file\n",
    "data = pd.read_csv('ws.csv')\n",
    "print(\"Data:\\n\", data)\n",
    "\n",
    "# Separating concepts (features) from target\n",
    "concepts = np.array(data.iloc[:, :-1])  # Select all columns except the last one\n",
    "print(\"\\nConcepts:\\n\", concepts)\n",
    "\n",
    "# Isolating target into a separate array\n",
    "target = np.array(data.iloc[:, -1])  # Select only the last column\n",
    "print(\"\\nTarget:\\n\", target)\n",
    "\n",
    "def learn(concepts, target):\n",
    "    \"\"\"\n",
    "    Candidate Elimination Algorithm\n",
    "    Arguments:\n",
    "        concepts - numpy array with all features\n",
    "        target - numpy array with target values\n",
    "    Returns:\n",
    "        specific_h - most specific hypothesis\n",
    "        general_h - set of general hypotheses\n",
    "    \"\"\"\n",
    "    # Initialize specific_h with the first positive example\n",
    "    specific_h = concepts[0].copy()\n",
    "    print(\"\\nInitialization of specific_h:\\n\", specific_h)\n",
    "\n",
    "    # Initialize general_h with the most general hypothesis\n",
    "    general_h = [[\"?\" for _ in range(len(specific_h))] for _ in range(len(specific_h))]\n",
    "    print(\"\\nInitialization of general_h:\\n\", general_h)\n",
    "\n",
    "    # Learning phase\n",
    "    for i, h in enumerate(concepts):\n",
    "        if target[i] == 'Yes':  # Positive example\n",
    "            for x in range(len(specific_h)):\n",
    "                if h[x] != specific_h[x]:  # Generalize specific_h\n",
    "                    specific_h[x] = '?'\n",
    "                    general_h[x][x] = '?'  # Keep track of inconsistencies\n",
    "\n",
    "        elif target[i] == 'No':  # Negative example\n",
    "            for x in range(len(specific_h)):\n",
    "                if h[x] != specific_h[x]:  # Specialize general_h\n",
    "                    general_h[x][x] = specific_h[x]\n",
    "                else:\n",
    "                    general_h[x][x] = '?'\n",
    "\n",
    "        print(f'\\nStep {i+1} of Candidate Elimination Algorithm')\n",
    "        print(\"Specific Hypothesis:\", specific_h)\n",
    "        print(\"General Hypothesis:\", general_h)\n",
    "\n",
    "    # Remove redundant generalizations\n",
    "    general_h = [hyp for hyp in general_h if hyp != ['?'] * len(specific_h)]\n",
    "\n",
    "    return specific_h, general_h\n",
    "\n",
    "# Run the learning algorithm\n",
    "s_final, g_final = learn(concepts, target)\n",
    "\n",
    "# Output final hypotheses\n",
    "print('\\nFinal Specific Hypothesis:', s_final)\n",
    "print('\\nFinal General Hypotheses:', g_final)\n"
   ]
  },
  {
   "cell_type": "code",
   "execution_count": null,
   "id": "bb2abd4a",
   "metadata": {},
   "outputs": [],
   "source": []
  }
 ],
 "metadata": {
  "kernelspec": {
   "display_name": "usr",
   "language": "python",
   "name": "python3"
  },
  "language_info": {
   "codemirror_mode": {
    "name": "ipython",
    "version": 3
   },
   "file_extension": ".py",
   "mimetype": "text/x-python",
   "name": "python",
   "nbconvert_exporter": "python",
   "pygments_lexer": "ipython3",
   "version": "3.12.3"
  }
 },
 "nbformat": 4,
 "nbformat_minor": 5
}
